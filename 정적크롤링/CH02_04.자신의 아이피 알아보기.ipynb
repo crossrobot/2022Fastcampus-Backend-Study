{
 "cells": [
  {
   "cell_type": "code",
   "execution_count": 1,
   "id": "0b53b9d6",
   "metadata": {},
   "outputs": [],
   "source": [
    "import requests "
   ]
  },
  {
   "cell_type": "code",
   "execution_count": 6,
   "id": "dd97956f",
   "metadata": {},
   "outputs": [
    {
     "name": "stdout",
     "output_type": "stream",
     "text": [
      "200\n",
      "175.203.139.197\n"
     ]
    }
   ],
   "source": [
    "res = requests.get('https://api.ipify.org/')\n",
    "print(res.status_code)\n",
    "print(res.text)"
   ]
  },
  {
   "cell_type": "code",
   "execution_count": 7,
   "id": "67104554",
   "metadata": {},
   "outputs": [
    {
     "name": "stdout",
     "output_type": "stream",
     "text": [
      "{'User-Agent': 'python-requests/2.27.1', 'Accept-Encoding': 'gzip, deflate, br', 'Accept': '*/*', 'Connection': 'keep-alive'}\n"
     ]
    }
   ],
   "source": [
    "# 이걸 request 할 때 어떤 header를 보냈는지 보여준다. \n",
    "print(res.request.headers)"
   ]
  },
  {
   "cell_type": "code",
   "execution_count": 8,
   "id": "0a6750f6",
   "metadata": {},
   "outputs": [
    {
     "name": "stdout",
     "output_type": "stream",
     "text": [
      "0:00:00.638942\n",
      "<urllib3.response.HTTPResponse object at 0x0000011E5E489FA0>\n"
     ]
    }
   ],
   "source": [
    "res = requests.get('https://api.ipify.org/')\n",
    "# res.elapsed는 시간이 얼마나 걸리는지.\n",
    "print(res.elapsed)\n",
    "# res.raw는 바이트 값\n",
    "print(res.raw)"
   ]
  },
  {
   "cell_type": "code",
   "execution_count": null,
   "id": "95cff3f5",
   "metadata": {},
   "outputs": [],
   "source": []
  }
 ],
 "metadata": {
  "kernelspec": {
   "display_name": "Fastcampus",
   "language": "python",
   "name": "fastcampus"
  },
  "language_info": {
   "codemirror_mode": {
    "name": "ipython",
    "version": 3
   },
   "file_extension": ".py",
   "mimetype": "text/x-python",
   "name": "python",
   "nbconvert_exporter": "python",
   "pygments_lexer": "ipython3",
   "version": "3.9.7"
  }
 },
 "nbformat": 4,
 "nbformat_minor": 5
}
