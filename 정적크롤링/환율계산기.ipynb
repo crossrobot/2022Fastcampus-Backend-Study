{
 "cells": [
  {
   "cell_type": "code",
   "execution_count": 3,
   "id": "d88269f6",
   "metadata": {},
   "outputs": [
    {
     "name": "stdout",
     "output_type": "stream",
     "text": [
      "4\n",
      "['a', '', 'le']\n"
     ]
    }
   ],
   "source": [
    "s = 'apple'\n",
    "\n",
    "print(s.find('e'))\n",
    "arr = s.split('p')\n",
    "print(arr)"
   ]
  },
  {
   "cell_type": "markdown",
   "id": "f5ac6d05",
   "metadata": {},
   "source": [
    "즉 string의 메서드인 .find는 해당 글자가 몇번째에 위치하는지 위치 번호를 반환하고, .split()은 문자열을 주어진 문자로 쪼갠 '배열' 을 반환한다. "
   ]
  },
  {
   "cell_type": "code",
   "execution_count": 6,
   "id": "5189b335",
   "metadata": {},
   "outputs": [
    {
     "name": "stdout",
     "output_type": "stream",
     "text": [
      "[' 12', ' 입니다']\n"
     ]
    }
   ],
   "source": [
    "s = '제 생일은 12월 입니다'\n",
    "\n",
    "arr = s.split('생일은')\n",
    "\n",
    "s = arr[1]\n",
    "print(s.split('월'))"
   ]
  },
  {
   "cell_type": "code",
   "execution_count": 7,
   "id": "3908b015",
   "metadata": {},
   "outputs": [],
   "source": [
    "import requests as req"
   ]
  },
  {
   "cell_type": "code",
   "execution_count": 13,
   "id": "f4d8eb53",
   "metadata": {},
   "outputs": [
    {
     "name": "stdout",
     "output_type": "stream",
     "text": [
      "1076\n"
     ]
    },
    {
     "data": {
      "text/plain": [
       "'1,221.00'"
      ]
     },
     "execution_count": 13,
     "metadata": {},
     "output_type": "execute_result"
    }
   ],
   "source": [
    "res = req.get('https://finance.naver.com/marketindex/?tabSel=exchange#tab_section')\n",
    "\n",
    "html = res.text\n",
    "print(html.find('미국 USD'))\n",
    "\n",
    "html.split('<span class=\"value\">')[1].split('</span>')[0]"
   ]
  },
  {
   "cell_type": "code",
   "execution_count": 14,
   "id": "97750b46",
   "metadata": {},
   "outputs": [],
   "source": [
    "import re\n",
    "\n",
    "s= 'hi'\n",
    "print(re.match('r '))"
   ]
  },
  {
   "cell_type": "code",
   "execution_count": 15,
   "id": "63fed73b",
   "metadata": {},
   "outputs": [],
   "source": [
    "import requests as req\n",
    "import re\n",
    "\n",
    "url = \"https://finance.naver.com/marketindex/?tabSel=exchange#tab_section\"\n",
    "res = req.get(url)\n",
    "body = res.text"
   ]
  },
  {
   "cell_type": "code",
   "execution_count": null,
   "id": "f35366b6",
   "metadata": {},
   "outputs": [],
   "source": [
    "# 정규표현식 -> \n",
    "re.findall( `)"
   ]
  }
 ],
 "metadata": {
  "kernelspec": {
   "display_name": "Fastcampus",
   "language": "python",
   "name": "fastcampus"
  },
  "language_info": {
   "codemirror_mode": {
    "name": "ipython",
    "version": 3
   },
   "file_extension": ".py",
   "mimetype": "text/x-python",
   "name": "python",
   "nbconvert_exporter": "python",
   "pygments_lexer": "ipython3",
   "version": "3.9.7"
  }
 },
 "nbformat": 4,
 "nbformat_minor": 5
}
